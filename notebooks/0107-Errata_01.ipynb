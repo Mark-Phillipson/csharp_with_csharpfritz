{
 "cells": [
  {
   "cell_type": "markdown",
   "metadata": {},
   "source": [
    "# Session 7: The Errata Review No. 1\n",
    "\n",
    "This session is a review of the prior six sessions and covering those pieces that were left off.  Not necessarily errors, but missing pieces to complete the picture from the series.  These topics answer some questions and will help complete the picture of the C# language features discussed to this point."
   ]
  }
 ],
 "metadata": {
  "kernelspec": {
   "display_name": ".NET (C#)",
   "language": "C#",
   "name": ".net-csharp"
  },
  "language_info": {
   "file_extension": ".cs",
   "mimetype": "text/x-csharp",
   "name": "C#",
   "pygments_lexer": "csharp",
   "version": "8.0"
  }
 },
 "nbformat": 4,
 "nbformat_minor": 4
}
