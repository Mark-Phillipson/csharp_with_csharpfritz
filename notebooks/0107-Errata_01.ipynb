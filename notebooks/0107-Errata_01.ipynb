{
 "cells": [
  {
   "cell_type": "markdown",
   "metadata": {},
   "source": [
    "# Session 7: The Errata Review No. 1\n",
    "\n",
    "This session is a review of the prior six sessions and covering those pieces that were left off.  Not necessarily errors, but missing pieces to complete the picture from the series.  These topics answer some questions and will help complete the picture of the C# language features discussed to this point.\n",
    "\n",
    "## Increment and Assignment operators\n",
    "\n",
    "In session 1, we reviewed operators and interacting with numbers.  We skipped the [increment](https://docs.microsoft.com/en-us/dotnet/csharp/language-reference/operators/arithmetic-operators?WT.mc_id=visualstudio-twitch-jefritz#increment-operator-) `++` and [decrement](https://docs.microsoft.com/en-us/dotnet/csharp/language-reference/operators/arithmetic-operators?WT.mc_id=visualstudio-twitch-jefritz#decrement-operator---) `--` operators.  These operators allow you to increment and decrement values quickly.  You can place these operators before and after the variable you would like to act on, and they will be incremented or decremented before or after being returned.\n",
    "\n",
    "Let's take a look:"
   ]
  },
  {
   "cell_type": "code",
   "execution_count": 2,
   "metadata": {},
   "outputs": [
    {
     "data": {
      "text/html": [
       "<div class=\"dni-plaintext\">1</div>"
      ]
     },
     "metadata": {},
     "output_type": "display_data"
    },
    {
     "data": {
      "text/html": [
       "<div class=\"dni-plaintext\">2</div>"
      ]
     },
     "metadata": {},
     "output_type": "display_data"
    }
   ],
   "source": [
    "var counter = 1;\n",
    "display(counter++); // Running ++ AFTER counter will display 1\n",
    "display(counter);   // and then display 2 in the next row"
   ]
  },
  {
   "cell_type": "code",
   "execution_count": 3,
   "metadata": {},
   "outputs": [
    {
     "data": {
      "text/html": [
       "<div class=\"dni-plaintext\">2</div>"
      ]
     },
     "metadata": {},
     "output_type": "display_data"
    }
   ],
   "source": [
    "var counter = 1;\n",
    "display(++counter); // Running ++ BEFORE counter will display 2 as it is incrementing the variable before \n",
    "                    // displaying it"
   ]
  },
  {
   "cell_type": "markdown",
   "metadata": {},
   "source": [
    "## Logical negation operator\n",
    "\n",
    "Sometimes you want to invert the value of a boolean, converting from `true` to `false` and from `false` to `true`.  Quite simply, just prefix your test or boolean value with  the [negation operator](https://docs.microsoft.com/en-us/dotnet/csharp/language-reference/operators/boolean-logical-operators?WT.mc_id=visualstudio-twitch-jefritz#logical-negation-operator-) `!` to invert values"
   ]
  },
  {
   "cell_type": "code",
   "execution_count": 4,
   "metadata": {},
   "outputs": [
    {
     "data": {
      "text/html": [
       "<div class=\"dni-plaintext\">False</div>"
      ]
     },
     "metadata": {},
     "output_type": "display_data"
    }
   ],
   "source": [
    "var isTrue = true;\n",
    "display(!isTrue);"
   ]
  },
  {
   "cell_type": "markdown",
   "metadata": {},
   "source": [
    "## String Formatting\n",
    "\n",
    "Formatting and working with strings or text is a fundamental building block of working with user-input.  We failed to cover the various ways to interact with those strings.  Let's take a look at a handful of the ways to work with text data.\n",
    "\n",
    "## Concatenation\n",
    "\n",
    "You may have seen notes and output that concatenates strings by using the [`+` operator](https://docs.microsoft.com/en-us/dotnet/csharp/language-reference/operators/addition-operator?WT.mc_id=visualstudio-twitch-jefritz#string-concatenation).  This is the simplest form of concatenation and only works when both sides of the `+` operator are strings.  "
   ]
  },
  {
   "cell_type": "code",
   "execution_count": 6,
   "metadata": {},
   "outputs": [
    {
     "data": {
      "text/plain": [
       "Hello World!"
      ]
     },
     "metadata": {},
     "output_type": "display_data"
    },
    {
     "data": {
      "text/plain": [
       "Hello C# developers"
      ]
     },
     "metadata": {},
     "output_type": "display_data"
    }
   ],
   "source": [
    "var greeting = \"Hello\";\n",
    "display(greeting + \" World!\");\n",
    "\n",
    "// += also works\n",
    "greeting += \" C# developers\";\n",
    "display(greeting);"
   ]
  },
  {
   "cell_type": "markdown",
   "metadata": {},
   "source": [
    "If you have multiple strings to combine, the `+` operator gets a little unwieldy and is not as performance aware as several other techniques.  We can [combine multiple strings](https://docs.microsoft.com/en-us/dotnet/csharp/how-to/concatenate-multiple-strings?WT.mc_id=visualstudio-twitch-jefritz) using the `Concat`, `Join`, `Format` and interpolation features of C#."
   ]
  },
  {
   "cell_type": "code",
   "execution_count": 10,
   "metadata": {},
   "outputs": [
    {
     "data": {
      "text/plain": [
       "Good Evening Fritz!"
      ]
     },
     "metadata": {},
     "output_type": "display_data"
    }
   ],
   "source": [
    "var greeting = \"Good\";\n",
    "var time = DateTime.Now.Hour < 12 && DateTime.Now.Hour > 3  ? \"Morning\" : DateTime.Now.Hour < 17 ? \"Afternoon\" : \"Evening\";\n",
    "var name = \"Fritz\";\n",
    "\n",
    "// Use string.concat with a comma separated list of arguments \n",
    "display(string.Concat(greeting, \" \", time, \" \", name + \"!\"));"
   ]
  },
  {
   "cell_type": "code",
   "execution_count": 11,
   "metadata": {},
   "outputs": [
    {
     "data": {
      "text/plain": [
       "Good Evening Fritz"
      ]
     },
     "metadata": {},
     "output_type": "display_data"
    }
   ],
   "source": [
    "var terms = new [] {greeting, time, name};\n",
    "\n",
    "// Use string.Join to assembly values in an array with a separator\n",
    "display(string.Join(\" \", terms));"
   ]
  },
  {
   "cell_type": "code",
   "execution_count": 12,
   "metadata": {},
   "outputs": [
    {
     "data": {
      "text/plain": [
       "Good Evening Fritz"
      ]
     },
     "metadata": {},
     "output_type": "display_data"
    }
   ],
   "source": [
    "// Use string.Format to configure a template string and load values into it based on position\n",
    "var format = \"Good {0} {1}\";\n",
    "display(string.Format(format, time, name));"
   ]
  },
  {
   "cell_type": "code",
   "execution_count": 13,
   "metadata": {},
   "outputs": [
    {
     "data": {
      "text/plain": [
       "Good Evening Fritz"
      ]
     },
     "metadata": {},
     "output_type": "display_data"
    }
   ],
   "source": [
    "// With C# 7 and later you can now use string interpolation to format a string.  \n",
    "// Simply prefix a string with a $ to allow you to insert C# expressions in { } inside\n",
    "// a string\n",
    "\n",
    "display($\"Good {time} {name}\");\n"
   ]
  },
  {
   "cell_type": "code",
   "execution_count": 15,
   "metadata": {},
   "outputs": [
    {
     "data": {
      "text/plain": [
       "Good Evening Fritz"
      ]
     },
     "metadata": {},
     "output_type": "display_data"
    }
   ],
   "source": [
    "// Another technique that can be used when you don't know the exact number of strings\n",
    "// to concatenate is to use the StringBuilder class.\n",
    "\n",
    "var sb = new StringBuilder();\n",
    "sb.AppendFormat(\"Good {0}\", time);\n",
    "sb.Append(\" \");\n",
    "sb.Append(name);\n",
    "\n",
    "display(sb.ToString());"
   ]
  },
  {
   "cell_type": "markdown",
   "metadata": {},
   "source": [
    "### Parsing strings with Split\n",
    "\n",
    "You can turn a string into an array of strings using the `Split` method on a string variable.  Pass the character that identifies the boundary between elements of your array to turn it into an array:"
   ]
  },
  {
   "cell_type": "code",
   "execution_count": 17,
   "metadata": {},
   "outputs": [
    {
     "data": {
      "text/html": [
       "<table><thead><tr><th><i>index</i></th><th>value</th></tr></thead><tbody><tr><td>0</td><td><div class=\"dni-plaintext\">Good</div></td></tr><tr><td>1</td><td><div class=\"dni-plaintext\">Morning</div></td></tr><tr><td>2</td><td><div class=\"dni-plaintext\">Cleveland</div></td></tr></tbody></table>"
      ]
     },
     "metadata": {},
     "output_type": "display_data"
    }
   ],
   "source": [
    "var phrase = \"Good Morning Cleveland\";\n",
    "display(phrase.Split(' '));"
   ]
  },
  {
   "cell_type": "code",
   "execution_count": 18,
   "metadata": {},
   "outputs": [
    {
     "data": {
      "text/html": [
       "<table><thead><tr><th><i>index</i></th><th>value</th></tr></thead><tbody><tr><td>0</td><td><div class=\"dni-plaintext\">1</div></td></tr><tr><td>1</td><td><div class=\"dni-plaintext\">1</div></td></tr><tr><td>2</td><td><div class=\"dni-plaintext\">2</div></td></tr><tr><td>3</td><td><div class=\"dni-plaintext\">3</div></td></tr><tr><td>4</td><td><div class=\"dni-plaintext\">5</div></td></tr><tr><td>5</td><td><div class=\"dni-plaintext\">8</div></td></tr><tr><td>6</td><td><div class=\"dni-plaintext\">13</div></td></tr><tr><td>7</td><td><div class=\"dni-plaintext\">21</div></td></tr></tbody></table>"
      ]
     },
     "metadata": {},
     "output_type": "display_data"
    }
   ],
   "source": [
    "var fibonacci = \"1,1,2,3,5,8,13,21\";\n",
    "display(fibonacci.Split(','));"
   ]
  }
 ],
 "metadata": {
  "kernelspec": {
   "display_name": ".NET (C#)",
   "language": "C#",
   "name": ".net-csharp"
  },
  "language_info": {
   "file_extension": ".cs",
   "mimetype": "text/x-csharp",
   "name": "C#",
   "pygments_lexer": "csharp",
   "version": "8.0"
  }
 },
 "nbformat": 4,
 "nbformat_minor": 4
}
